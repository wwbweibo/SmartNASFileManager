{
 "cells": [
  {
   "cell_type": "code",
   "execution_count": null,
   "metadata": {},
   "outputs": [],
   "source": [
    "import cn_clip.clip as clip\n",
    "from cn_clip.clip import load_from_name, available_models\n",
    "from PIL import Image\n",
    "import torch"
   ]
  },
  {
   "cell_type": "code",
   "execution_count": null,
   "metadata": {},
   "outputs": [],
   "source": [
    "available_models()"
   ]
  },
  {
   "cell_type": "code",
   "execution_count": null,
   "metadata": {},
   "outputs": [],
   "source": [
    "model, preprocess = load_from_name(\"ViT-B-16\", device=\"mps\", download_root=\"./\")\n",
    "model.eval()"
   ]
  },
  {
   "cell_type": "code",
   "execution_count": null,
   "metadata": {},
   "outputs": [],
   "source": [
    "image = preprocess(Image.open(\"3F97341B-5872-4E07-A1AC-70871839F8BA_1_105_c.jpeg\")).unsqueeze(0).to(\"mps\")"
   ]
  },
  {
   "cell_type": "code",
   "execution_count": null,
   "metadata": {},
   "outputs": [],
   "source": [
    "# 读取 ImageNet 的标签\n",
    "import json\n",
    "text_labels = []\n",
    "with open(\"label_cn.txt\") as f:\n",
    "    text_labels = f.readlines()\n",
    "# remove whitespace characters like `\\n` at the end of each line\n",
    "text_labels = [x.strip() for x in text_labels]\n",
    "labels = clip.tokenize(text_labels).to(\"mps\")"
   ]
  },
  {
   "cell_type": "code",
   "execution_count": null,
   "metadata": {},
   "outputs": [],
   "source": [
    "with torch.no_grad():\n",
    "    image_features = model.encode_image(image)\n",
    "    image_features /= image_features.norm(dim=-1, keepdim=True)\n",
    "    text_feature = model.encode_text(labels)\n",
    "    text_feature /= text_feature.norm(dim=-1, keepdim=True)\n",
    "\n",
    "similarity = (100.0 * image_features @ text_feature.T).softmax(dim=-1)\n",
    "# find top 5 labels with highest similarity\n",
    "values, indices = similarity[0].topk(5)\n",
    "# print(\"Label and confidence:\")\n",
    "for value, index in zip(values, indices):\n",
    "    print(f\"{text_labels[index]}: {100 * value.item():.2f}%\")"
   ]
  }
 ],
 "metadata": {
  "kernelspec": {
   "display_name": "venv",
   "language": "python",
   "name": "python3"
  },
  "language_info": {
   "codemirror_mode": {
    "name": "ipython",
    "version": 3
   },
   "file_extension": ".py",
   "mimetype": "text/x-python",
   "name": "python",
   "nbconvert_exporter": "python",
   "pygments_lexer": "ipython3",
   "version": "3.12.3"
  }
 },
 "nbformat": 4,
 "nbformat_minor": 2
}
